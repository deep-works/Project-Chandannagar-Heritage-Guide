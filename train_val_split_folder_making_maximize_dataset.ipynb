{
 "cells": [
  {
   "cell_type": "markdown",
   "metadata": {
    "id": "9RFmGgD865I_"
   },
   "source": [
    "# Image Data Processing and Augmentation(to make more data)"
   ]
  },
  {
   "cell_type": "markdown",
   "metadata": {
    "id": "exZzBxLz7ECP"
   },
   "source": [
    "## Setup and Data Path Configuration"
   ]
  },
  {
   "cell_type": "code",
   "execution_count": null,
   "metadata": {
    "colab": {
     "base_uri": "https://localhost:8080/"
    },
    "executionInfo": {
     "elapsed": 2093,
     "status": "ok",
     "timestamp": 1750248582393,
     "user": {
      "displayName": "Project CNC",
      "userId": "07230416678905314775"
     },
     "user_tz": -330
    },
    "id": "ZCqx5F3PAFSI",
    "outputId": "846e7568-df56-4b20-8ac5-f5c478b2643d"
   },
   "outputs": [
    {
     "name": "stdout",
     "output_type": "stream",
     "text": [
      "Drive already mounted at /content/drive; to attempt to forcibly remount, call drive.mount(\"/content/drive\", force_remount=True).\n",
      "Using path: /content/drive/MyDrive/Classroom/ChandernagoreCollegeSemVI-Addon 2025 Sem VI Computer Science Honours\n",
      "\n",
      "['Data', 'old_experiments', 'data.csv', 'expr2_effnet.ipynb', 'expr1_resnet18.ipynb', 'maximize_dataset_make_csv_data.ipynb', 'training_images', 'validate_images']\n"
     ]
    }
   ],
   "source": [
    "import os\n",
    "from google.colab import drive\n",
    "\n",
    "drive.mount(\"/content/drive\")\n",
    "\n",
    "# shared path to drive\n",
    "SHARED_PATH = \"/content/drive/MyDrive/Classroom/ChandernagoreCollegeSemVI-Addon 2025 Sem VI Computer Science Honours/ChandernagoreCollegeSemVI-Addon 2025 Sem VI Computer Science Honours\"\n",
    "# direct path to drive\n",
    "DIRECT_PATH = \"/content/drive/MyDrive/Classroom/ChandernagoreCollegeSemVI-Addon 2025 Sem VI Computer Science Honours\"\n",
    "\n",
    "# Determine the data path based on the existence of shared or direct paths\n",
    "root_path = (\n",
    "    SHARED_PATH\n",
    "    if os.path.exists(SHARED_PATH)\n",
    "    else DIRECT_PATH\n",
    "    if os.path.exists(DIRECT_PATH)\n",
    "    else None\n",
    ")\n",
    "\n",
    "DATA_PATH = \"\"\n",
    "# Print the chosen path or an error message\n",
    "if root_path:\n",
    "    DATA_PATH = root_path + \"/Proj2_Heritage_places_in_CGR_classify\"\n",
    "    print(f\"Using path: {root_path}\\n\\n{os.listdir(DATA_PATH)}\")\n",
    "else:\n",
    "    print(\"Neither shared nor direct path exists. Please check the paths.\")\n"
   ]
  },
  {
   "cell_type": "markdown",
   "metadata": {
    "id": "VzoO91ra7ZXX"
   },
   "source": [
    "## Saving Dataframe and Visualizing Class Distribution"
   ]
  },
  {
   "cell_type": "markdown",
   "metadata": {
    "id": "J80PogAN7WUP"
   },
   "source": [
    "### Dataframe Creation and Exploration"
   ]
  },
  {
   "cell_type": "code",
   "execution_count": null,
   "metadata": {
    "executionInfo": {
     "elapsed": 689,
     "status": "ok",
     "timestamp": 1750248583085,
     "user": {
      "displayName": "Project CNC",
      "userId": "07230416678905314775"
     },
     "user_tz": -330
    },
    "id": "CCg_5Geh7qMQ"
   },
   "outputs": [],
   "source": [
    "import pandas as pd\n",
    "\n",
    "\n",
    "def create_image_dataframe(root_dir):\n",
    "    image_dict = {}\n",
    "    for folder in os.listdir(root_dir):\n",
    "        folder_path = os.path.join(root_dir, folder)\n",
    "        if os.path.isdir(folder_path):\n",
    "            image_dict[folder] = []\n",
    "            for filename in os.listdir(folder_path):\n",
    "                # You can add an extension check here if needed\n",
    "                # if filename.lower().endswith(('.png', '.jpg', '.jpeg')):\n",
    "                rel_path = folder_path.split(\"/\")\n",
    "                image_path = os.path.join(\"/\", rel_path[-2], rel_path[-1], filename)\n",
    "                image_dict[folder].append(image_path)\n",
    "\n",
    "    data = []\n",
    "    for class_name, images in image_dict.items():\n",
    "        for img_path in images:\n",
    "            data.append({\"path\": img_path, \"class\": class_name})\n",
    "\n",
    "    df = pd.DataFrame(data)\n",
    "    return df"
   ]
  },
  {
   "cell_type": "code",
   "execution_count": null,
   "metadata": {
    "colab": {
     "base_uri": "https://localhost:8080/"
    },
    "executionInfo": {
     "elapsed": 78,
     "status": "ok",
     "timestamp": 1750248583161,
     "user": {
      "displayName": "Project CNC",
      "userId": "07230416678905314775"
     },
     "user_tz": -330
    },
    "id": "pjJtm1r6FQVA",
    "outputId": "7b89e79b-33d0-4ca5-d690-ab61cd99bca6"
   },
   "outputs": [
    {
     "name": "stdout",
     "output_type": "stream",
     "text": [
      "                              path        class\n",
      "0       /Data/mondir/tmpl_0007.JPG       mondir\n",
      "1       /Data/mondir/tmpl_0008.jpg       mondir\n",
      "2       /Data/mondir/tmpl_0006.jpg       mondir\n",
      "3      /Data/mondir/tmpl_0005.webp       mondir\n",
      "4      /Data/mondir/tmpl_0004.jpeg       mondir\n",
      "..                             ...          ...\n",
      "68   /Data/clock_tower/ct_0003.jpg  clock_tower\n",
      "69  /Data/clock_tower/ct_0002.webp  clock_tower\n",
      "70   /Data/clock_tower/ct_0001.jpg  clock_tower\n",
      "71  /Data/clock_tower/ct_0007.jpeg  clock_tower\n",
      "72  /Data/clock_tower/ct_0008.jpeg  clock_tower\n",
      "\n",
      "[73 rows x 2 columns]\n",
      "                              path      class\n",
      "count                           73         73\n",
      "unique                          73          6\n",
      "top     /Data/mondir/tmpl_0007.JPG  jora_ghat\n",
      "freq                             1         17\n"
     ]
    },
    {
     "data": {
      "text/plain": [
       "['Data',\n",
       " 'old_experiments',\n",
       " 'data.csv',\n",
       " 'expr2_effnet.ipynb',\n",
       " 'expr1_resnet18.ipynb',\n",
       " 'maximize_dataset_make_csv_data.ipynb',\n",
       " 'training_images',\n",
       " 'validate_images']"
      ]
     },
     "execution_count": 3,
     "metadata": {},
     "output_type": "execute_result"
    }
   ],
   "source": [
    "# Example usage:\n",
    "# DATA_PATH is assumed to be defined from the previous cells\n",
    "df = create_image_dataframe(DATA_PATH + \"/Data\")\n",
    "print(df)\n",
    "print(df.describe())\n",
    "\n",
    "# uncomment to save as csv data\n",
    "# df.to_csv(DATA_PATH+'/data.csv', index=False)\n",
    "os.listdir(DATA_PATH)"
   ]
  },
  {
   "cell_type": "code",
   "execution_count": null,
   "metadata": {
    "colab": {
     "base_uri": "https://localhost:8080/",
     "height": 311
    },
    "executionInfo": {
     "elapsed": 1893,
     "status": "ok",
     "timestamp": 1750248585054,
     "user": {
      "displayName": "Project CNC",
      "userId": "07230416678905314775"
     },
     "user_tz": -330
    },
    "id": "1tpMNWpTXoM3",
    "outputId": "e7a70701-bb62-42cb-fd68-8b81e9094870"
   },
   "outputs": [
    {
     "data": {
      "image/png": "[encoded data removed]",
      "text/plain": [
       "<Figure size 400x300 with 1 Axes>"
      ]
     },
     "metadata": {},
     "output_type": "display_data"
    }
   ],
   "source": [
    "import seaborn as sns\n",
    "import matplotlib.pyplot as plt\n",
    "\n",
    "plt.figure(figsize=(4, 3))\n",
    "ax = sns.countplot(\n",
    "    y=\"class\", data=df, hue=\"class\", palette=\"deep\", order=sorted(df[\"class\"].unique())\n",
    ")\n",
    "\n",
    "# Add bar counts\n",
    "for container in ax.containers:\n",
    "    ax.bar_label(container, fmt=\"%d\")\n",
    "\n",
    "plt.show()"
   ]
  },
  {
   "cell_type": "markdown",
   "metadata": {
    "id": "tSVXquY5rpd_"
   },
   "source": [
    "### Train Validation split"
   ]
  },
  {
   "cell_type": "code",
   "execution_count": null,
   "metadata": {
    "colab": {
     "base_uri": "https://localhost:8080/",
     "height": 432
    },
    "executionInfo": {
     "elapsed": 487,
     "status": "ok",
     "timestamp": 1750248585543,
     "user": {
      "displayName": "Project CNC",
      "userId": "07230416678905314775"
     },
     "user_tz": -330
    },
    "id": "yL4ILwQ2rsvf",
    "outputId": "a915043c-65a6-464a-c2ac-970b31caa46e"
   },
   "outputs": [
    {
     "name": "stdout",
     "output_type": "stream",
     "text": [
      "------------ 58 ----------------\n"
     ]
    },
    {
     "data": {
      "application/vnd.google.colaboratory.intrinsic+json": {
       "summary": "{\n  \"name\": \"# test_df\",\n  \"rows\": 5,\n  \"fields\": [\n    {\n      \"column\": \"path\",\n      \"properties\": {\n        \"dtype\": \"string\",\n        \"num_unique_values\": 5,\n        \"samples\": [\n          \"/Data/jora_ghat/ghat_0005.webp\",\n          \"/Data/jora_ghat/ghat_00010.webp\",\n          \"/Data/musium/mus_00012.jpg\"\n        ],\n        \"semantic_type\": \"\",\n        \"description\": \"\"\n      }\n    },\n    {\n      \"column\": \"class\",\n      \"properties\": {\n        \"dtype\": \"string\",\n        \"num_unique_values\": 4,\n        \"samples\": [\n          \"jora_ghat\",\n          \"patalbari\",\n          \"charch\"\n        ],\n        \"semantic_type\": \"\",\n        \"description\": \"\"\n      }\n    }\n  ]\n}",
       "type": "dataframe"
      },
      "text/html": [
       "\n",
       "  <div id=\"df-ad222590-e49d-422d-8644-95a26a7be710\" class=\"colab-df-container\">\n",
       "    <div>\n",
       "<style scoped>\n",
       "    .dataframe tbody tr th:only-of-type {\n",
       "        vertical-align: middle;\n",
       "    }\n",
       "\n",
       "    .dataframe tbody tr th {\n",
       "        vertical-align: top;\n",
       "    }\n",
       "\n",
       "    .dataframe thead th {\n",
       "        text-align: right;\n",
       "    }\n",
       "</style>\n",
       "<table border=\"1\" class=\"dataframe\">\n",
       "  <thead>\n",
       "    <tr style=\"text-align: right;\">\n",
       "      <th></th>\n",
       "      <th>path</th>\n",
       "      <th>class</th>\n",
       "    </tr>\n",
       "  </thead>\n",
       "  <tbody>\n",
       "    <tr>\n",
       "      <th>27</th>\n",
       "      <td>/Data/charch/crch_00013.jpg</td>\n",
       "      <td>charch</td>\n",
       "    </tr>\n",
       "    <tr>\n",
       "      <th>19</th>\n",
       "      <td>/Data/jora_ghat/ghat_0005.webp</td>\n",
       "      <td>jora_ghat</td>\n",
       "    </tr>\n",
       "    <tr>\n",
       "      <th>52</th>\n",
       "      <td>/Data/musium/mus_00012.jpg</td>\n",
       "      <td>musium</td>\n",
       "    </tr>\n",
       "    <tr>\n",
       "      <th>45</th>\n",
       "      <td>/Data/patalbari/pb_0006.jpeg</td>\n",
       "      <td>patalbari</td>\n",
       "    </tr>\n",
       "    <tr>\n",
       "      <th>14</th>\n",
       "      <td>/Data/jora_ghat/ghat_00010.webp</td>\n",
       "      <td>jora_ghat</td>\n",
       "    </tr>\n",
       "  </tbody>\n",
       "</table>\n",
       "</div>\n",
       "    <div class=\"colab-df-buttons\">\n",
       "\n",
       "  <div class=\"colab-df-container\">\n",
       "    <button class=\"colab-df-convert\" onclick=\"convertToInteractive('df-ad222590-e49d-422d-8644-95a26a7be710')\"\n",
       "            title=\"Convert this dataframe to an interactive table.\"\n",
       "            style=\"display:none;\">\n",
       "\n",
       "  <svg xmlns=\"http://www.w3.org/2000/svg\" height=\"24px\" viewBox=\"0 -960 960 960\">\n",
       "    <path d=\"M120-120v-720h720v720H120Zm60-500h600v-160H180v160Zm220 220h160v-160H400v160Zm0 220h160v-160H400v160ZM180-400h160v-160H180v160Zm440 0h160v-160H620v160ZM180-180h160v-160H180v160Zm440 0h160v-160H620v160Z\"/>\n",
       "  </svg>\n",
       "    </button>\n",
       "\n",
       "  <style>\n",
       "    .colab-df-container {\n",
       "      display:flex;\n",
       "      gap: 12px;\n",
       "    }\n",
       "\n",
       "    .colab-df-convert {\n",
       "      background-color: #E8F0FE;\n",
       "      border: none;\n",
       "      border-radius: 50%;\n",
       "      cursor: pointer;\n",
       "      display: none;\n",
       "      fill: #1967D2;\n",
       "      height: 32px;\n",
       "      padding: 0 0 0 0;\n",
       "      width: 32px;\n",
       "    }\n",
       "\n",
       "    .colab-df-convert:hover {\n",
       "      background-color: #E2EBFA;\n",
       "      box-shadow: 0px 1px 2px rgba(60, 64, 67, 0.3), 0px 1px 3px 1px rgba(60, 64, 67, 0.15);\n",
       "      fill: #174EA6;\n",
       "    }\n",
       "\n",
       "    .colab-df-buttons div {\n",
       "      margin-bottom: 4px;\n",
       "    }\n",
       "\n",
       "    [theme=dark] .colab-df-convert {\n",
       "      background-color: #3B4455;\n",
       "      fill: #D2E3FC;\n",
       "    }\n",
       "\n",
       "    [theme=dark] .colab-df-convert:hover {\n",
       "      background-color: #434B5C;\n",
       "      box-shadow: 0px 1px 3px 1px rgba(0, 0, 0, 0.15);\n",
       "      filter: drop-shadow(0px 1px 2px rgba(0, 0, 0, 0.3));\n",
       "      fill: #FFFFFF;\n",
       "    }\n",
       "  </style>\n",
       "\n",
       "    <script>\n",
       "      const buttonEl =\n",
       "        document.querySelector('#df-ad222590-e49d-422d-8644-95a26a7be710 button.colab-df-convert');\n",
       "      buttonEl.style.display =\n",
       "        google.colab.kernel.accessAllowed ? 'block' : 'none';\n",
       "\n",
       "      async function convertToInteractive(key) {\n",
       "        const element = document.querySelector('#df-ad222590-e49d-422d-8644-95a26a7be710');\n",
       "        const dataTable =\n",
       "          await google.colab.kernel.invokeFunction('convertToInteractive',\n",
       "                                                    [key], {});\n",
       "        if (!dataTable) return;\n",
       "\n",
       "        const docLinkHtml = 'Like what you see? Visit the ' +\n",
       "          '<a target=\"_blank\" href=https://colab.research.google.com/notebooks/data_table.ipynb>data table notebook</a>'\n",
       "          + ' to learn more about interactive tables.';\n",
       "        element.innerHTML = '';\n",
       "        dataTable['output_type'] = 'display_data';\n",
       "        await google.colab.output.renderOutput(dataTable, element);\n",
       "        const docLink = document.createElement('div');\n",
       "        docLink.innerHTML = docLinkHtml;\n",
       "        element.appendChild(docLink);\n",
       "      }\n",
       "    </script>\n",
       "  </div>\n",
       "\n",
       "\n",
       "    <div id=\"df-098acf87-1a54-487a-82c7-3c0b8034c67b\">\n",
       "      <button class=\"colab-df-quickchart\" onclick=\"quickchart('df-098acf87-1a54-487a-82c7-3c0b8034c67b')\"\n",
       "                title=\"Suggest charts\"\n",
       "                style=\"display:none;\">\n",
       "\n",
       "<svg xmlns=\"http://www.w3.org/2000/svg\" height=\"24px\"viewBox=\"0 0 24 24\"\n",
       "     width=\"24px\">\n",
       "    <g>\n",
       "        <path d=\"M19 3H5c-1.1 0-2 .9-2 2v14c0 1.1.9 2 2 2h14c1.1 0 2-.9 2-2V5c0-1.1-.9-2-2-2zM9 17H7v-7h2v7zm4 0h-2V7h2v10zm4 0h-2v-4h2v4z\"/>\n",
       "    </g>\n",
       "</svg>\n",
       "      </button>\n",
       "\n",
       "<style>\n",
       "  .colab-df-quickchart {\n",
       "      --bg-color: #E8F0FE;\n",
       "      --fill-color: #1967D2;\n",
       "      --hover-bg-color: #E2EBFA;\n",
       "      --hover-fill-color: #174EA6;\n",
       "      --disabled-fill-color: #AAA;\n",
       "      --disabled-bg-color: #DDD;\n",
       "  }\n",
       "\n",
       "  [theme=dark] .colab-df-quickchart {\n",
       "      --bg-color: #3B4455;\n",
       "      --fill-color: #D2E3FC;\n",
       "      --hover-bg-color: #434B5C;\n",
       "      --hover-fill-color: #FFFFFF;\n",
       "      --disabled-bg-color: #3B4455;\n",
       "      --disabled-fill-color: #666;\n",
       "  }\n",
       "\n",
       "  .colab-df-quickchart {\n",
       "    background-color: var(--bg-color);\n",
       "    border: none;\n",
       "    border-radius: 50%;\n",
       "    cursor: pointer;\n",
       "    display: none;\n",
       "    fill: var(--fill-color);\n",
       "    height: 32px;\n",
       "    padding: 0;\n",
       "    width: 32px;\n",
       "  }\n",
       "\n",
       "  .colab-df-quickchart:hover {\n",
       "    background-color: var(--hover-bg-color);\n",
       "    box-shadow: 0 1px 2px rgba(60, 64, 67, 0.3), 0 1px 3px 1px rgba(60, 64, 67, 0.15);\n",
       "    fill: var(--button-hover-fill-color);\n",
       "  }\n",
       "\n",
       "  .colab-df-quickchart-complete:disabled,\n",
       "  .colab-df-quickchart-complete:disabled:hover {\n",
       "    background-color: var(--disabled-bg-color);\n",
       "    fill: var(--disabled-fill-color);\n",
       "    box-shadow: none;\n",
       "  }\n",
       "\n",
       "  .colab-df-spinner {\n",
       "    border: 2px solid var(--fill-color);\n",
       "    border-color: transparent;\n",
       "    border-bottom-color: var(--fill-color);\n",
       "    animation:\n",
       "      spin 1s steps(1) infinite;\n",
       "  }\n",
       "\n",
       "  @keyframes spin {\n",
       "    0% {\n",
       "      border-color: transparent;\n",
       "      border-bottom-color: var(--fill-color);\n",
       "      border-left-color: var(--fill-color);\n",
       "    }\n",
       "    20% {\n",
       "      border-color: transparent;\n",
       "      border-left-color: var(--fill-color);\n",
       "      border-top-color: var(--fill-color);\n",
       "    }\n",
       "    30% {\n",
       "      border-color: transparent;\n",
       "      border-left-color: var(--fill-color);\n",
       "      border-top-color: var(--fill-color);\n",
       "      border-right-color: var(--fill-color);\n",
       "    }\n",
       "    40% {\n",
       "      border-color: transparent;\n",
       "      border-right-color: var(--fill-color);\n",
       "      border-top-color: var(--fill-color);\n",
       "    }\n",
       "    60% {\n",
       "      border-color: transparent;\n",
       "      border-right-color: var(--fill-color);\n",
       "    }\n",
       "    80% {\n",
       "      border-color: transparent;\n",
       "      border-right-color: var(--fill-color);\n",
       "      border-bottom-color: var(--fill-color);\n",
       "    }\n",
       "    90% {\n",
       "      border-color: transparent;\n",
       "      border-bottom-color: var(--fill-color);\n",
       "    }\n",
       "  }\n",
       "</style>\n",
       "\n",
       "      <script>\n",
       "        async function quickchart(key) {\n",
       "          const quickchartButtonEl =\n",
       "            document.querySelector('#' + key + ' button');\n",
       "          quickchartButtonEl.disabled = true;  // To prevent multiple clicks.\n",
       "          quickchartButtonEl.classList.add('colab-df-spinner');\n",
       "          try {\n",
       "            const charts = await google.colab.kernel.invokeFunction(\n",
       "                'suggestCharts', [key], {});\n",
       "          } catch (error) {\n",
       "            console.error('Error during call to suggestCharts:', error);\n",
       "          }\n",
       "          quickchartButtonEl.classList.remove('colab-df-spinner');\n",
       "          quickchartButtonEl.classList.add('colab-df-quickchart-complete');\n",
       "        }\n",
       "        (() => {\n",
       "          let quickchartButtonEl =\n",
       "            document.querySelector('#df-098acf87-1a54-487a-82c7-3c0b8034c67b button');\n",
       "          quickchartButtonEl.style.display =\n",
       "            google.colab.kernel.accessAllowed ? 'block' : 'none';\n",
       "        })();\n",
       "      </script>\n",
       "    </div>\n",
       "\n",
       "    </div>\n",
       "  </div>\n"
      ],
      "text/plain": [
       "                               path      class\n",
       "27      /Data/charch/crch_00013.jpg     charch\n",
       "19   /Data/jora_ghat/ghat_0005.webp  jora_ghat\n",
       "52       /Data/musium/mus_00012.jpg     musium\n",
       "45     /Data/patalbari/pb_0006.jpeg  patalbari\n",
       "14  /Data/jora_ghat/ghat_00010.webp  jora_ghat"
      ]
     },
     "metadata": {},
     "output_type": "display_data"
    },
    {
     "name": "stdout",
     "output_type": "stream",
     "text": [
      "------------ 15 ----------------\n"
     ]
    },
    {
     "data": {
      "application/vnd.google.colaboratory.intrinsic+json": {
       "summary": "{\n  \"name\": \"# test_df\",\n  \"rows\": 5,\n  \"fields\": [\n    {\n      \"column\": \"path\",\n      \"properties\": {\n        \"dtype\": \"string\",\n        \"num_unique_values\": 5,\n        \"samples\": [\n          \"/Data/mondir/tmpl_0009.jpeg\",\n          \"/Data/charch/crch_0006.jpg\",\n          \"/Data/jora_ghat/ghat_00015.jpg\"\n        ],\n        \"semantic_type\": \"\",\n        \"description\": \"\"\n      }\n    },\n    {\n      \"column\": \"class\",\n      \"properties\": {\n        \"dtype\": \"string\",\n        \"num_unique_values\": 4,\n        \"samples\": [\n          \"mondir\",\n          \"charch\",\n          \"musium\"\n        ],\n        \"semantic_type\": \"\",\n        \"description\": \"\"\n      }\n    }\n  ]\n}",
       "type": "dataframe"
      },
      "text/html": [
       "\n",
       "  <div id=\"df-84fb39ae-3dd2-4466-bf3e-139e68117ad5\" class=\"colab-df-container\">\n",
       "    <div>\n",
       "<style scoped>\n",
       "    .dataframe tbody tr th:only-of-type {\n",
       "        vertical-align: middle;\n",
       "    }\n",
       "\n",
       "    .dataframe tbody tr th {\n",
       "        vertical-align: top;\n",
       "    }\n",
       "\n",
       "    .dataframe thead th {\n",
       "        text-align: right;\n",
       "    }\n",
       "</style>\n",
       "<table border=\"1\" class=\"dataframe\">\n",
       "  <thead>\n",
       "    <tr style=\"text-align: right;\">\n",
       "      <th></th>\n",
       "      <th>path</th>\n",
       "      <th>class</th>\n",
       "    </tr>\n",
       "  </thead>\n",
       "  <tbody>\n",
       "    <tr>\n",
       "      <th>61</th>\n",
       "      <td>/Data/musium/mus_0003.jpg</td>\n",
       "      <td>musium</td>\n",
       "    </tr>\n",
       "    <tr>\n",
       "      <th>8</th>\n",
       "      <td>/Data/mondir/tmpl_0009.jpeg</td>\n",
       "      <td>mondir</td>\n",
       "    </tr>\n",
       "    <tr>\n",
       "      <th>10</th>\n",
       "      <td>/Data/jora_ghat/ghat_00015.jpg</td>\n",
       "      <td>jora_ghat</td>\n",
       "    </tr>\n",
       "    <tr>\n",
       "      <th>18</th>\n",
       "      <td>/Data/jora_ghat/ghat_0006.jpg</td>\n",
       "      <td>jora_ghat</td>\n",
       "    </tr>\n",
       "    <tr>\n",
       "      <th>34</th>\n",
       "      <td>/Data/charch/crch_0006.jpg</td>\n",
       "      <td>charch</td>\n",
       "    </tr>\n",
       "  </tbody>\n",
       "</table>\n",
       "</div>\n",
       "    <div class=\"colab-df-buttons\">\n",
       "\n",
       "  <div class=\"colab-df-container\">\n",
       "    <button class=\"colab-df-convert\" onclick=\"convertToInteractive('df-84fb39ae-3dd2-4466-bf3e-139e68117ad5')\"\n",
       "            title=\"Convert this dataframe to an interactive table.\"\n",
       "            style=\"display:none;\">\n",
       "\n",
       "  <svg xmlns=\"http://www.w3.org/2000/svg\" height=\"24px\" viewBox=\"0 -960 960 960\">\n",
       "    <path d=\"M120-120v-720h720v720H120Zm60-500h600v-160H180v160Zm220 220h160v-160H400v160Zm0 220h160v-160H400v160ZM180-400h160v-160H180v160Zm440 0h160v-160H620v160ZM180-180h160v-160H180v160Zm440 0h160v-160H620v160Z\"/>\n",
       "  </svg>\n",
       "    </button>\n",
       "\n",
       "  <style>\n",
       "    .colab-df-container {\n",
       "      display:flex;\n",
       "      gap: 12px;\n",
       "    }\n",
       "\n",
       "    .colab-df-convert {\n",
       "      background-color: #E8F0FE;\n",
       "      border: none;\n",
       "      border-radius: 50%;\n",
       "      cursor: pointer;\n",
       "      display: none;\n",
       "      fill: #1967D2;\n",
       "      height: 32px;\n",
       "      padding: 0 0 0 0;\n",
       "      width: 32px;\n",
       "    }\n",
       "\n",
       "    .colab-df-convert:hover {\n",
       "      background-color: #E2EBFA;\n",
       "      box-shadow: 0px 1px 2px rgba(60, 64, 67, 0.3), 0px 1px 3px 1px rgba(60, 64, 67, 0.15);\n",
       "      fill: #174EA6;\n",
       "    }\n",
       "\n",
       "    .colab-df-buttons div {\n",
       "      margin-bottom: 4px;\n",
       "    }\n",
       "\n",
       "    [theme=dark] .colab-df-convert {\n",
       "      background-color: #3B4455;\n",
       "      fill: #D2E3FC;\n",
       "    }\n",
       "\n",
       "    [theme=dark] .colab-df-convert:hover {\n",
       "      background-color: #434B5C;\n",
       "      box-shadow: 0px 1px 3px 1px rgba(0, 0, 0, 0.15);\n",
       "      filter: drop-shadow(0px 1px 2px rgba(0, 0, 0, 0.3));\n",
       "      fill: #FFFFFF;\n",
       "    }\n",
       "  </style>\n",
       "\n",
       "    <script>\n",
       "      const buttonEl =\n",
       "        document.querySelector('#df-84fb39ae-3dd2-4466-bf3e-139e68117ad5 button.colab-df-convert');\n",
       "      buttonEl.style.display =\n",
       "        google.colab.kernel.accessAllowed ? 'block' : 'none';\n",
       "\n",
       "      async function convertToInteractive(key) {\n",
       "        const element = document.querySelector('#df-84fb39ae-3dd2-4466-bf3e-139e68117ad5');\n",
       "        const dataTable =\n",
       "          await google.colab.kernel.invokeFunction('convertToInteractive',\n",
       "                                                    [key], {});\n",
       "        if (!dataTable) return;\n",
       "\n",
       "        const docLinkHtml = 'Like what you see? Visit the ' +\n",
       "          '<a target=\"_blank\" href=https://colab.research.google.com/notebooks/data_table.ipynb>data table notebook</a>'\n",
       "          + ' to learn more about interactive tables.';\n",
       "        element.innerHTML = '';\n",
       "        dataTable['output_type'] = 'display_data';\n",
       "        await google.colab.output.renderOutput(dataTable, element);\n",
       "        const docLink = document.createElement('div');\n",
       "        docLink.innerHTML = docLinkHtml;\n",
       "        element.appendChild(docLink);\n",
       "      }\n",
       "    </script>\n",
       "  </div>\n",
       "\n",
       "\n",
       "    <div id=\"df-d0bef55b-df0a-403b-9708-363b2c7067b0\">\n",
       "      <button class=\"colab-df-quickchart\" onclick=\"quickchart('df-d0bef55b-df0a-403b-9708-363b2c7067b0')\"\n",
       "                title=\"Suggest charts\"\n",
       "                style=\"display:none;\">\n",
       "\n",
       "<svg xmlns=\"http://www.w3.org/2000/svg\" height=\"24px\"viewBox=\"0 0 24 24\"\n",
       "     width=\"24px\">\n",
       "    <g>\n",
       "        <path d=\"M19 3H5c-1.1 0-2 .9-2 2v14c0 1.1.9 2 2 2h14c1.1 0 2-.9 2-2V5c0-1.1-.9-2-2-2zM9 17H7v-7h2v7zm4 0h-2V7h2v10zm4 0h-2v-4h2v4z\"/>\n",
       "    </g>\n",
       "</svg>\n",
       "      </button>\n",
       "\n",
       "<style>\n",
       "  .colab-df-quickchart {\n",
       "      --bg-color: #E8F0FE;\n",
       "      --fill-color: #1967D2;\n",
       "      --hover-bg-color: #E2EBFA;\n",
       "      --hover-fill-color: #174EA6;\n",
       "      --disabled-fill-color: #AAA;\n",
       "      --disabled-bg-color: #DDD;\n",
       "  }\n",
       "\n",
       "  [theme=dark] .colab-df-quickchart {\n",
       "      --bg-color: #3B4455;\n",
       "      --fill-color: #D2E3FC;\n",
       "      --hover-bg-color: #434B5C;\n",
       "      --hover-fill-color: #FFFFFF;\n",
       "      --disabled-bg-color: #3B4455;\n",
       "      --disabled-fill-color: #666;\n",
       "  }\n",
       "\n",
       "  .colab-df-quickchart {\n",
       "    background-color: var(--bg-color);\n",
       "    border: none;\n",
       "    border-radius: 50%;\n",
       "    cursor: pointer;\n",
       "    display: none;\n",
       "    fill: var(--fill-color);\n",
       "    height: 32px;\n",
       "    padding: 0;\n",
       "    width: 32px;\n",
       "  }\n",
       "\n",
       "  .colab-df-quickchart:hover {\n",
       "    background-color: var(--hover-bg-color);\n",
       "    box-shadow: 0 1px 2px rgba(60, 64, 67, 0.3), 0 1px 3px 1px rgba(60, 64, 67, 0.15);\n",
       "    fill: var(--button-hover-fill-color);\n",
       "  }\n",
       "\n",
       "  .colab-df-quickchart-complete:disabled,\n",
       "  .colab-df-quickchart-complete:disabled:hover {\n",
       "    background-color: var(--disabled-bg-color);\n",
       "    fill: var(--disabled-fill-color);\n",
       "    box-shadow: none;\n",
       "  }\n",
       "\n",
       "  .colab-df-spinner {\n",
       "    border: 2px solid var(--fill-color);\n",
       "    border-color: transparent;\n",
       "    border-bottom-color: var(--fill-color);\n",
       "    animation:\n",
       "      spin 1s steps(1) infinite;\n",
       "  }\n",
       "\n",
       "  @keyframes spin {\n",
       "    0% {\n",
       "      border-color: transparent;\n",
       "      border-bottom-color: var(--fill-color);\n",
       "      border-left-color: var(--fill-color);\n",
       "    }\n",
       "    20% {\n",
       "      border-color: transparent;\n",
       "      border-left-color: var(--fill-color);\n",
       "      border-top-color: var(--fill-color);\n",
       "    }\n",
       "    30% {\n",
       "      border-color: transparent;\n",
       "      border-left-color: var(--fill-color);\n",
       "      border-top-color: var(--fill-color);\n",
       "      border-right-color: var(--fill-color);\n",
       "    }\n",
       "    40% {\n",
       "      border-color: transparent;\n",
       "      border-right-color: var(--fill-color);\n",
       "      border-top-color: var(--fill-color);\n",
       "    }\n",
       "    60% {\n",
       "      border-color: transparent;\n",
       "      border-right-color: var(--fill-color);\n",
       "    }\n",
       "    80% {\n",
       "      border-color: transparent;\n",
       "      border-right-color: var(--fill-color);\n",
       "      border-bottom-color: var(--fill-color);\n",
       "    }\n",
       "    90% {\n",
       "      border-color: transparent;\n",
       "      border-bottom-color: var(--fill-color);\n",
       "    }\n",
       "  }\n",
       "</style>\n",
       "\n",
       "      <script>\n",
       "        async function quickchart(key) {\n",
       "          const quickchartButtonEl =\n",
       "            document.querySelector('#' + key + ' button');\n",
       "          quickchartButtonEl.disabled = true;  // To prevent multiple clicks.\n",
       "          quickchartButtonEl.classList.add('colab-df-spinner');\n",
       "          try {\n",
       "            const charts = await google.colab.kernel.invokeFunction(\n",
       "                'suggestCharts', [key], {});\n",
       "          } catch (error) {\n",
       "            console.error('Error during call to suggestCharts:', error);\n",
       "          }\n",
       "          quickchartButtonEl.classList.remove('colab-df-spinner');\n",
       "          quickchartButtonEl.classList.add('colab-df-quickchart-complete');\n",
       "        }\n",
       "        (() => {\n",
       "          let quickchartButtonEl =\n",
       "            document.querySelector('#df-d0bef55b-df0a-403b-9708-363b2c7067b0 button');\n",
       "          quickchartButtonEl.style.display =\n",
       "            google.colab.kernel.accessAllowed ? 'block' : 'none';\n",
       "        })();\n",
       "      </script>\n",
       "    </div>\n",
       "\n",
       "    </div>\n",
       "  </div>\n"
      ],
      "text/plain": [
       "                              path      class\n",
       "61       /Data/musium/mus_0003.jpg     musium\n",
       "8      /Data/mondir/tmpl_0009.jpeg     mondir\n",
       "10  /Data/jora_ghat/ghat_00015.jpg  jora_ghat\n",
       "18   /Data/jora_ghat/ghat_0006.jpg  jora_ghat\n",
       "34      /Data/charch/crch_0006.jpg     charch"
      ]
     },
     "metadata": {},
     "output_type": "display_data"
    }
   ],
   "source": [
    "from sklearn.model_selection import train_test_split\n",
    "\n",
    "# splitting a dataset in such a way that the proportion of samples in each class is the same across the training and testing sets.\n",
    "train_df, test_df = train_test_split(\n",
    "    df, test_size=0.2, random_state=2025, stratify=df[\"class\"]\n",
    ")\n",
    "# train_df, test_df = train_test_split(df, test_size=0.2, random_state=2025)\n",
    "\n",
    "print(\"------------\", len(train_df), \"----------------\")\n",
    "display(train_df.head())\n",
    "print(\"------------\", len(test_df), \"----------------\")\n",
    "display(test_df.head())\n",
    "\n",
    "# save train and test data csv\n",
    "# train_df.to_csv(DATA_PATH+'/training_df.csv', index=False)\n",
    "# test_df.to_csv(DATA_PATH+'/validate_df.csv', index=False)"
   ]
  },
  {
   "cell_type": "markdown",
   "metadata": {
    "id": "jGh1lrXi2a1F"
   },
   "source": [
    "### Plot train-test splited data"
   ]
  },
  {
   "cell_type": "code",
   "execution_count": null,
   "metadata": {
    "colab": {
     "base_uri": "https://localhost:8080/",
     "height": 307
    },
    "executionInfo": {
     "elapsed": 1072,
     "status": "ok",
     "timestamp": 1750248586624,
     "user": {
      "displayName": "Project CNC",
      "userId": "07230416678905314775"
     },
     "user_tz": -330
    },
    "id": "v4BJB1TJr1On",
    "outputId": "5e4077d1-1979-4074-c34a-ba8d4556c847"
   },
   "outputs": [
    {
     "data": {
      "image/png": "[encoded data removed]",
      "text/plain": [
       "<Figure size 700x300 with 2 Axes>"
      ]
     },
     "metadata": {},
     "output_type": "display_data"
    }
   ],
   "source": [
    "def plot_class_distribution(data, ax, title, max_count, class_order, palette):\n",
    "    sns.countplot(\n",
    "        y=\"class\",\n",
    "        data=data,\n",
    "        hue=\"class\",\n",
    "        palette=palette,\n",
    "        ax=ax,\n",
    "        hue_order=class_order,\n",
    "        order=class_order,\n",
    "    )\n",
    "    ax.set_title(title)\n",
    "    ax.set_xlim(0, max_count)\n",
    "    for brs in ax.containers:\n",
    "        ax.bar_label(brs, fmt=\"=%d\")\n",
    "\n",
    "\n",
    "# Calculate the maximum count across all splits\n",
    "max_count = 10 + max(\n",
    "    train_df[\"class\"].value_counts().max(), test_df[\"class\"].value_counts().max()\n",
    ")\n",
    "\n",
    "# Create the subplots\n",
    "fig, axes = plt.subplots(1, 2, figsize=(7, 3))\n",
    "# Get the unique class names in the desired order (e.g., alphabetical)\n",
    "class_order = sorted(df[\"class\"].unique())\n",
    "consistent_palette = sns.color_palette(\"Dark2\", n_colors=len(class_order))\n",
    "\n",
    "# Use the function to plot the distributions\n",
    "plot_class_distribution(\n",
    "    train_df,\n",
    "    axes[0],\n",
    "    title=\"Stratified Train Split\",\n",
    "    max_count=max_count,\n",
    "    class_order=class_order,\n",
    "    palette=consistent_palette,\n",
    ")\n",
    "plot_class_distribution(\n",
    "    test_df,\n",
    "    axes[1],\n",
    "    title=\"Stratified Test Split\",\n",
    "    max_count=max_count,\n",
    "    class_order=class_order,\n",
    "    palette=consistent_palette,\n",
    ")\n",
    "\n",
    "plt.tight_layout()\n",
    "plt.show()"
   ]
  },
  {
   "cell_type": "markdown",
   "metadata": {
    "id": "18nYBrzZ-dwU"
   },
   "source": [
    "## Functions Definitions ..."
   ]
  },
  {
   "cell_type": "markdown",
   "metadata": {
    "id": "AgjhF1TJ7Jb3"
   },
   "source": [
    "### Image augmentation & edits"
   ]
  },
  {
   "cell_type": "code",
   "execution_count": null,
   "metadata": {
    "executionInfo": {
     "elapsed": 5813,
     "status": "ok",
     "timestamp": 1750248592439,
     "user": {
      "displayName": "Project CNC",
      "userId": "07230416678905314775"
     },
     "user_tz": -330
    },
    "id": "Re_YoQWpToQZ"
   },
   "outputs": [],
   "source": [
    "import os\n",
    "import random\n",
    "import numpy as np\n",
    "import albumentations as A\n",
    "import cv2\n",
    "\n",
    "random.seed(2025)\n",
    "\n",
    "\n",
    "def augment_image(image_path, output_folder, n_aug_per_image):\n",
    "    \"\"\"\n",
    "    Loads an image using OpenCV, applies augmentations with Albumentations,\n",
    "    and saves the augmented versions.\n",
    "    Args:\n",
    "        image_path (str): Full path to the input image.\n",
    "        output_folder (str): Path to the folder where augmented images will be saved.\n",
    "        num_augmentations_per_image (int): Number of augmented versions to create for each image.\n",
    "    \"\"\"\n",
    "    try:\n",
    "        # Load image using OpenCV (loads in BGR format by default)\n",
    "        img_np = cv2.imread(image_path)\n",
    "        # Albumentations expects RGB, so convert from BGR\n",
    "        img_np = cv2.cvtColor(img_np, cv2.COLOR_BGR2RGB)\n",
    "        img_name = os.path.basename(image_path)\n",
    "        base_name, extension = os.path.splitext(img_name)\n",
    "\n",
    "        # Define an augmentation pipeline using Albumentations\n",
    "        edit_img = A.Compose(\n",
    "            [\n",
    "                # --- Color/Pixel Augmentations ---\n",
    "                A.RandomBrightnessContrast(\n",
    "                    brightness_limit=0.2, contrast_limit=0.2, p=0.8\n",
    "                ),\n",
    "                A.HueSaturationValue(\n",
    "                    hue_shift_limit=0.1, sat_shift_limit=0.1, val_shift_limit=0.1, p=0.6\n",
    "                ),\n",
    "                # --- Geometric Augmentations (These maintain original image dimensions unless border_mode expands) ---\n",
    "                A.HorizontalFlip(p=0.5),  # Strongly recommended if applicable\n",
    "                A.Rotate(\n",
    "                    limit=20,\n",
    "                    p=0.5,\n",
    "                    border_mode=cv2.BORDER_REFLECT,  # Fills rotated areas\n",
    "                ),\n",
    "                A.Affine(\n",
    "                    shear={\"x\": (-15, 15), \"y\": (-0, 0)},\n",
    "                    p=0.3,\n",
    "                    border_mode=cv2.BORDER_REFLECT,\n",
    "                ),\n",
    "                # --- Regularization Augmentations ---\n",
    "                A.GaussNoise(p=0.1),\n",
    "                # --- IMPORTANT: DO NOT INCLUDE NORMALIZATION, TENSOR CONVERSION, OR RESIZING/CROPPING HERE ---\n",
    "                # These will be done by torchvision.transforms later, in the DataLoader.\n",
    "                # A.RandomResizedCrop(...)  <-- NO\n",
    "                # A.Normalize(...)          <-- NO\n",
    "                # A.ToTensorV2()            <-- NO\n",
    "            ]\n",
    "        )\n",
    "\n",
    "        for i in range(n_aug_per_image):\n",
    "            # Apply the augmentation pipeline\n",
    "            augmented_img_dict = edit_img(\n",
    "                image=img_np\n",
    "            )  # {'image':array([]), 'dtype':int64}\n",
    "            augmented_img_np = augmented_img_dict[\"image\"]\n",
    "            # Convert back to BGR for saving with cv2.imwrite\n",
    "            augmented_img_np_bgr = cv2.cvtColor(augmented_img_np, cv2.COLOR_RGB2BGR)\n",
    "            # Save the augmented image using OpenCV\n",
    "            augmented_img_name = f\"{base_name}_aug{i}{extension}\"\n",
    "            augmented_img_path = os.path.join(output_folder, augmented_img_name)\n",
    "            cv2.imwrite(augmented_img_path, augmented_img_np_bgr)\n",
    "        print(f\"  Generated..{n_aug_per_image} \")\n",
    "\n",
    "    except Exception as e:\n",
    "        print(f\"Error processing {image_path}: {e}\")"
   ]
  },
  {
   "cell_type": "markdown",
   "metadata": {
    "id": "R1TSyfdc-t5E"
   },
   "source": [
    "### to make more Samples"
   ]
  },
  {
   "cell_type": "code",
   "execution_count": null,
   "metadata": {
    "executionInfo": {
     "elapsed": 14,
     "status": "ok",
     "timestamp": 1750248592441,
     "user": {
      "displayName": "Project CNC",
      "userId": "07230416678905314775"
     },
     "user_tz": -330
    },
    "id": "t8uwunDo6Tze"
   },
   "outputs": [],
   "source": [
    "def process_folder_perform_augment(data_folder, n_duplicate=1):\n",
    "    \"\"\"\n",
    "    Iterates through all images in the specified folder and applies augmentation.\n",
    "    \"\"\"\n",
    "    if not os.path.exists(data_folder):\n",
    "        print(f\"Error: Folder '{data_folder}' not found.\")\n",
    "        return\n",
    "\n",
    "    print(f\"Starting augmentation for images in: {data_folder}\")\n",
    "    for root, _, files in os.walk(data_folder):\n",
    "        for file in files:\n",
    "            if file.lower().endswith(\n",
    "                (\".png\", \".jpg\", \".jpeg\", \".gif\", \".bmp\", \".webp\")\n",
    "            ):\n",
    "                image_path = os.path.join(root, file)\n",
    "                print(f\"Processing: {file}\", end=\"\")\n",
    "                augment_image(\n",
    "                    image_path, root, n_duplicate\n",
    "                )  # Saving in the same folder"
   ]
  },
  {
   "cell_type": "markdown",
   "metadata": {
    "id": "ROyqcFGXYyIr"
   },
   "source": [
    "### Delete images with suffix given"
   ]
  },
  {
   "cell_type": "code",
   "execution_count": null,
   "metadata": {
    "executionInfo": {
     "elapsed": 14,
     "status": "ok",
     "timestamp": 1750248592443,
     "user": {
      "displayName": "Project CNC",
      "userId": "07230416678905314775"
     },
     "user_tz": -330
    },
    "id": "geA999BwYigK"
   },
   "outputs": [],
   "source": [
    "import re  # Import the regular expression module\n",
    "\n",
    "\n",
    "def delete_files_with_regix_suffix(folder_path, suffix_pattern):\n",
    "    \"\"\"\n",
    "    Deletes files in a folder that match a given suffix pattern using regex.\n",
    "    \"\"\"\n",
    "    print(\n",
    "        f\"Searching for and removing files matching pattern '{suffix_pattern}'\\n-in: {folder_path}\"\n",
    "    )\n",
    "    for root, _, files in os.walk(folder_path):\n",
    "        for file in files:\n",
    "            # Use re.search to find the pattern in the filename (case-insensitive)\n",
    "            if re.search(suffix_pattern, file, re.IGNORECASE):\n",
    "                file_path = os.path.join(root, file)\n",
    "                os.remove(file_path)\n",
    "        # print(f\"Removed duplicate of: {files}\")\n",
    "    print(f\"Removed old duplicates............\\n\")\n"
   ]
  },
  {
   "cell_type": "markdown",
   "metadata": {
    "id": "r2BeYhYCap8t"
   },
   "source": [
    "### list subfolder items\n"
   ]
  },
  {
   "cell_type": "code",
   "execution_count": null,
   "metadata": {
    "executionInfo": {
     "elapsed": 1,
     "status": "ok",
     "timestamp": 1750248592445,
     "user": {
      "displayName": "Project CNC",
      "userId": "07230416678905314775"
     },
     "user_tz": -330
    },
    "id": "jq9i5KdraZuO"
   },
   "outputs": [],
   "source": [
    "from IPython.display import display\n",
    "\n",
    "\n",
    "def count_items_in_subfolders(folder_path):\n",
    "    item_count_list = []\n",
    "    # Iterate through each subfolder and count the items\n",
    "    subfolder_list = os.listdir(folder_path)\n",
    "    for subfolder_name in subfolder_list:\n",
    "        subfolder_path = os.path.join(folder_path, subfolder_name)\n",
    "        if os.path.isdir(subfolder_path):  # Check if it's actually a directory\n",
    "            item_count = len(os.listdir(subfolder_path))\n",
    "            item_count_list.append(item_count)\n",
    "    # return as dictionary.....\n",
    "    return dict(zip(subfolder_list, item_count_list))"
   ]
  },
  {
   "cell_type": "markdown",
   "metadata": {
    "id": "SiaYDLOOrjnv"
   },
   "source": [
    "### Make image folders accordingly to csv"
   ]
  },
  {
   "cell_type": "code",
   "execution_count": null,
   "metadata": {
    "executionInfo": {
     "elapsed": 14,
     "status": "ok",
     "timestamp": 1750248592460,
     "user": {
      "displayName": "Project CNC",
      "userId": "07230416678905314775"
     },
     "user_tz": -330
    },
    "id": "tOQUH9LsfedM"
   },
   "outputs": [],
   "source": [
    "import os\n",
    "import shutil\n",
    "\n",
    "\n",
    "# Function to copy images based on DataFrame\n",
    "def copy_images(dataframe, destination_dir):\n",
    "    for index, row in dataframe.iterrows():\n",
    "        image_path = row[\"path\"]\n",
    "        class_name = row[\"class\"]\n",
    "\n",
    "        source_path = os.path.join(\n",
    "            DATA_PATH, image_path.lstrip(\"/\")\n",
    "        )  # Adjust this line based on your exact path structure\n",
    "        destination_path = os.path.join(\n",
    "            destination_dir, class_name, os.path.basename(source_path)\n",
    "        )\n",
    "\n",
    "        try:\n",
    "            shutil.copy(source_path, destination_path)\n",
    "            print(\n",
    "                f\"copy{source_path.split('/')[-3:]} -->> {destination_path.split('/')[-3:]}\"\n",
    "            )\n",
    "        except FileNotFoundError:\n",
    "            print(f\"Warning: File not found at {source_path}. Skipping.\")\n"
   ]
  },
  {
   "cell_type": "markdown",
   "metadata": {
    "id": "Q8SRy3dS2Czr"
   },
   "source": [
    "## Building training and validation folder copying images"
   ]
  },
  {
   "cell_type": "code",
   "execution_count": null,
   "metadata": {
    "colab": {
     "base_uri": "https://localhost:8080/"
    },
    "executionInfo": {
     "elapsed": 1393,
     "status": "ok",
     "timestamp": 1750248593855,
     "user": {
      "displayName": "Project CNC",
      "userId": "07230416678905314775"
     },
     "user_tz": -330
    },
    "id": "9sYAodCQ0irD",
    "outputId": "2cbe512e-bf69-4e93-8359-0cdd385f7201"
   },
   "outputs": [
    {
     "name": "stdout",
     "output_type": "stream",
     "text": [
      "----------Copying training images.................\n",
      "copy['Data', 'charch', 'crch_00013.jpg'] -->> ['training_images', 'charch', 'crch_00013.jpg']\n",
      "copy['Data', 'jora_ghat', 'ghat_0005.webp'] -->> ['training_images', 'jora_ghat', 'ghat_0005.webp']\n",
      "copy['Data', 'musium', 'mus_00012.jpg'] -->> ['training_images', 'musium', 'mus_00012.jpg']\n",
      "copy['Data', 'patalbari', 'pb_0006.jpeg'] -->> ['training_images', 'patalbari', 'pb_0006.jpeg']\n",
      "copy['Data', 'jora_ghat', 'ghat_00010.webp'] -->> ['training_images', 'jora_ghat', 'ghat_00010.webp']\n",
      "copy['Data', 'musium', 'mus_0001.jpg'] -->> ['training_images', 'musium', 'mus_0001.jpg']\n",
      "copy['Data', 'charch', 'crch_0004.jpg'] -->> ['training_images', 'charch', 'crch_0004.jpg']\n",
      "copy['Data', 'musium', 'mus_00013.jpg'] -->> ['training_images', 'musium', 'mus_00013.jpg']\n",
      "copy['Data', 'patalbari', 'pb_0002.jpeg'] -->> ['training_images', 'patalbari', 'pb_0002.jpeg']\n",
      "copy['Data', 'charch', 'crch_0009.jpg'] -->> ['training_images', 'charch', 'crch_0009.jpg']\n",
      "copy['Data', 'charch', 'crch_0003.jpg'] -->> ['training_images', 'charch', 'crch_0003.jpg']\n",
      "copy['Data', 'patalbari', 'pb_0005.jpeg'] -->> ['training_images', 'patalbari', 'pb_0005.jpeg']\n",
      "copy['Data', 'jora_ghat', 'ghat_0001.jpg'] -->> ['training_images', 'jora_ghat', 'ghat_0001.jpg']\n",
      "copy['Data', 'mondir', 'tmpl_0007.JPG'] -->> ['training_images', 'mondir', 'tmpl_0007.JPG']\n",
      "copy['Data', 'mondir', 'tmpl_0008.jpg'] -->> ['training_images', 'mondir', 'tmpl_0008.jpg']\n",
      "copy['Data', 'jora_ghat', 'ghat_00014.JPG'] -->> ['training_images', 'jora_ghat', 'ghat_00014.JPG']\n",
      "copy['Data', 'jora_ghat', 'ghat_0009.jpg'] -->> ['training_images', 'jora_ghat', 'ghat_0009.jpg']\n",
      "copy['Data', 'musium', 'mus_0005.webp'] -->> ['training_images', 'musium', 'mus_0005.webp']\n",
      "copy['Data', 'charch', 'crch_00014.JPG'] -->> ['training_images', 'charch', 'crch_00014.JPG']\n",
      "copy['Data', 'musium', 'mus_0009.webp'] -->> ['training_images', 'musium', 'mus_0009.webp']\n",
      "copy['Data', 'patalbari', 'pb_0009.jpeg'] -->> ['training_images', 'patalbari', 'pb_0009.jpeg']\n",
      "copy['Data', 'jora_ghat', 'ghat_0007.jpg'] -->> ['training_images', 'jora_ghat', 'ghat_0007.jpg']\n",
      "copy['Data', 'musium', 'mus_0004.jpg'] -->> ['training_images', 'musium', 'mus_0004.jpg']\n",
      "copy['Data', 'musium', 'mus_00015.JPG'] -->> ['training_images', 'musium', 'mus_00015.JPG']\n",
      "copy['Data', 'clock_tower', 'ct_0007.jpeg'] -->> ['training_images', 'clock_tower', 'ct_0007.jpeg']\n",
      "copy['Data', 'charch', 'crch_00011.jpg'] -->> ['training_images', 'charch', 'crch_00011.jpg']\n",
      "copy['Data', 'jora_ghat', 'ghat_0008.jpg'] -->> ['training_images', 'jora_ghat', 'ghat_0008.jpg']\n",
      "copy['Data', 'mondir', 'tmpl_0006.jpg'] -->> ['training_images', 'mondir', 'tmpl_0006.jpg']\n",
      "copy['Data', 'jora_ghat', 'ghat_00012.webp'] -->> ['training_images', 'jora_ghat', 'ghat_00012.webp']\n",
      "copy['Data', 'charch', 'crch_0008.jpg'] -->> ['training_images', 'charch', 'crch_0008.jpg']\n",
      "copy['Data', 'musium', 'mus_0007.jpg'] -->> ['training_images', 'musium', 'mus_0007.jpg']\n",
      "copy['Data', 'musium', 'mus_00014.jpg'] -->> ['training_images', 'musium', 'mus_00014.jpg']\n",
      "copy['Data', 'charch', 'crch_0007.webp'] -->> ['training_images', 'charch', 'crch_0007.webp']\n",
      "copy['Data', 'clock_tower', 'ct_0005.jpg'] -->> ['training_images', 'clock_tower', 'ct_0005.jpg']\n",
      "copy['Data', 'mondir', 'tmpl_0001.jpg'] -->> ['training_images', 'mondir', 'tmpl_0001.jpg']\n",
      "copy['Data', 'musium', 'mus_0006.jpg'] -->> ['training_images', 'musium', 'mus_0006.jpg']\n",
      "copy['Data', 'jora_ghat', 'ghat_00013.jpeg'] -->> ['training_images', 'jora_ghat', 'ghat_00013.jpeg']\n",
      "copy['Data', 'clock_tower', 'ct_0004.webp'] -->> ['training_images', 'clock_tower', 'ct_0004.webp']\n",
      "copy['Data', 'patalbari', 'pb_0003.webp'] -->> ['training_images', 'patalbari', 'pb_0003.webp']\n",
      "copy['Data', 'charch', 'crch_0005.jpg'] -->> ['training_images', 'charch', 'crch_0005.jpg']\n",
      "copy['Data', 'jora_ghat', 'ghat_0002.jpg'] -->> ['training_images', 'jora_ghat', 'ghat_0002.jpg']\n",
      "copy['Data', 'patalbari', 'pb_0004.JPG'] -->> ['training_images', 'patalbari', 'pb_0004.JPG']\n",
      "copy['Data', 'jora_ghat', 'ghat_00016.jpg'] -->> ['training_images', 'jora_ghat', 'ghat_00016.jpg']\n",
      "copy['Data', 'charch', 'crch_00010.png'] -->> ['training_images', 'charch', 'crch_00010.png']\n",
      "copy['Data', 'clock_tower', 'ct_0003.jpg'] -->> ['training_images', 'clock_tower', 'ct_0003.jpg']\n",
      "copy['Data', 'musium', 'mus_0002.jpeg'] -->> ['training_images', 'musium', 'mus_0002.jpeg']\n",
      "copy['Data', 'jora_ghat', 'ghat_00017.jpeg'] -->> ['training_images', 'jora_ghat', 'ghat_00017.jpeg']\n",
      "copy['Data', 'musium', 'mus_0010.jpeg'] -->> ['training_images', 'musium', 'mus_0010.jpeg']\n",
      "copy['Data', 'jora_ghat', 'ghat_0004.jpeg'] -->> ['training_images', 'jora_ghat', 'ghat_0004.jpeg']\n",
      "copy['Data', 'charch', 'crch_0001.webp'] -->> ['training_images', 'charch', 'crch_0001.webp']\n",
      "copy['Data', 'patalbari', 'pb_0001.jpg'] -->> ['training_images', 'patalbari', 'pb_0001.jpg']\n",
      "copy['Data', 'jora_ghat', 'ghat_0003.jpg'] -->> ['training_images', 'jora_ghat', 'ghat_0003.jpg']\n",
      "copy['Data', 'clock_tower', 'ct_0006.jpg'] -->> ['training_images', 'clock_tower', 'ct_0006.jpg']\n",
      "copy['Data', 'musium', 'mus_0008.jpg'] -->> ['training_images', 'musium', 'mus_0008.jpg']\n",
      "copy['Data', 'clock_tower', 'ct_0002.webp'] -->> ['training_images', 'clock_tower', 'ct_0002.webp']\n",
      "copy['Data', 'mondir', 'tmpl_0005.webp'] -->> ['training_images', 'mondir', 'tmpl_0005.webp']\n",
      "copy['Data', 'mondir', 'tmpl_0002.webp'] -->> ['training_images', 'mondir', 'tmpl_0002.webp']\n",
      "copy['Data', 'mondir', 'tmpl_0004.jpeg'] -->> ['training_images', 'mondir', 'tmpl_0004.jpeg']\n",
      "-----------Copying validation images...............\n",
      "copy['Data', 'musium', 'mus_0003.jpg'] -->> ['validate_images', 'musium', 'mus_0003.jpg']\n",
      "copy['Data', 'mondir', 'tmpl_0009.jpeg'] -->> ['validate_images', 'mondir', 'tmpl_0009.jpeg']\n",
      "copy['Data', 'jora_ghat', 'ghat_00015.jpg'] -->> ['validate_images', 'jora_ghat', 'ghat_00015.jpg']\n",
      "copy['Data', 'jora_ghat', 'ghat_0006.jpg'] -->> ['validate_images', 'jora_ghat', 'ghat_0006.jpg']\n",
      "copy['Data', 'charch', 'crch_0006.jpg'] -->> ['validate_images', 'charch', 'crch_0006.jpg']\n",
      "copy['Data', 'clock_tower', 'ct_0001.jpg'] -->> ['validate_images', 'clock_tower', 'ct_0001.jpg']\n",
      "copy['Data', 'musium', 'mus_00010.png'] -->> ['validate_images', 'musium', 'mus_00010.png']\n",
      "copy['Data', 'clock_tower', 'ct_0008.jpeg'] -->> ['validate_images', 'clock_tower', 'ct_0008.jpeg']\n",
      "copy['Data', 'charch', 'crch_0002.jpg'] -->> ['validate_images', 'charch', 'crch_0002.jpg']\n",
      "copy['Data', 'jora_ghat', 'ghat_00011.jpg'] -->> ['validate_images', 'jora_ghat', 'ghat_00011.jpg']\n",
      "copy['Data', 'charch', 'crch_00012.jpg'] -->> ['validate_images', 'charch', 'crch_00012.jpg']\n",
      "copy['Data', 'patalbari', 'pb_0007.jpeg'] -->> ['validate_images', 'patalbari', 'pb_0007.jpeg']\n",
      "copy['Data', 'patalbari', 'pb_0008.jpeg'] -->> ['validate_images', 'patalbari', 'pb_0008.jpeg']\n",
      "copy['Data', 'musium', 'mus_00011.jpg'] -->> ['validate_images', 'musium', 'mus_00011.jpg']\n",
      "copy['Data', 'mondir', 'tmpl_0003.jpg'] -->> ['validate_images', 'mondir', 'tmpl_0003.jpg']\n",
      "________Image copying complete_________\n"
     ]
    }
   ],
   "source": [
    "# Define the target directories\n",
    "train_dir = os.path.join(DATA_PATH, \"training_images\")\n",
    "val_dir = os.path.join(\n",
    "    DATA_PATH, \"validate_images\"\n",
    ")  # Using 'val' for validation as is common\n",
    "\n",
    "# Create the directories if they don't exist\n",
    "os.makedirs(train_dir, exist_ok=True)\n",
    "os.makedirs(val_dir, exist_ok=True)\n",
    "\n",
    "# Create class subdirectories within train and validation directories\n",
    "for class_name in df[\"class\"].unique():\n",
    "    os.makedirs(os.path.join(train_dir, class_name), exist_ok=True)\n",
    "    os.makedirs(os.path.join(val_dir, class_name), exist_ok=True)\n",
    "\n",
    "\n",
    "# Copy images for the training set\n",
    "print(\"----------Copying training images.................\")\n",
    "copy_images(train_df, train_dir)\n",
    "\n",
    "# Copy images for the validation set\n",
    "print(\"-----------Copying validation images...............\")\n",
    "copy_images(test_df, val_dir)\n",
    "\n",
    "print(\"________Image copying complete_________\")"
   ]
  },
  {
   "cell_type": "markdown",
   "metadata": {
    "id": "Xs7ux4v6cbih"
   },
   "source": [
    "## Image dataset maximizing"
   ]
  },
  {
   "cell_type": "code",
   "execution_count": null,
   "metadata": {
    "colab": {
     "base_uri": "https://localhost:8080/",
     "height": 128
    },
    "executionInfo": {
     "elapsed": 44,
     "status": "ok",
     "timestamp": 1750248593904,
     "user": {
      "displayName": "Project CNC",
      "userId": "07230416678905314775"
     },
     "user_tz": -330
    },
    "id": "9W2p7_o0bOxH",
    "outputId": "640d4c3a-bc67-4fe1-8a18-34380c5ab4b8"
   },
   "outputs": [
    {
     "data": {
      "text/plain": [
       "{'mondir': 9,\n",
       " 'jora_ghat': 17,\n",
       " 'charch': 14,\n",
       " 'patalbari': 9,\n",
       " 'musium': 16,\n",
       " 'clock_tower': 8}"
      ]
     },
     "metadata": {},
     "output_type": "display_data"
    }
   ],
   "source": [
    "folder_path = DATA_PATH + \"/Data\"\n",
    "display(count_items_in_subfolders(folder_path))\n",
    "\n",
    "# fset folder path to training_images\n",
    "# !DO NOT EDIT validation images set\n",
    "folder_path = train_dir + \"/\"\n",
    "# Define the pattern: '_aug' followed by one or more digits, then a dot and any extension\n",
    "suffix_pattern = r\"_aug\\d+\\..+\""
   ]
  },
  {
   "cell_type": "code",
   "execution_count": 14,
   "metadata": {
    "colab": {
     "base_uri": "https://localhost:8080/",
     "height": 222
    },
    "executionInfo": {
     "elapsed": 801,
     "status": "ok",
     "timestamp": 1750248594707,
     "user": {
      "displayName": "Project CNC",
      "userId": "07230416678905314775"
     },
     "user_tz": -330
    },
    "id": "qKAoH9W4ZAYS",
    "outputId": "47d4c8da-b394-470b-f234-22de811eb1d7"
   },
   "outputs": [
    {
     "name": "stdout",
     "output_type": "stream",
     "text": [
      "Searching for and removing files matching pattern '_aug\\d+\\..+'\n",
      "-in: /content/drive/MyDrive/Classroom/ChandernagoreCollegeSemVI-Addon 2025 Sem VI Computer Science Honours/Proj2_Heritage_places_in_CGR_classify/training_images/\n",
      "Removed old duplicates............\n",
      "\n"
     ]
    },
    {
     "data": {
      "text/plain": [
       "{'mondir': 7,\n",
       " 'jora_ghat': 14,\n",
       " 'charch': 11,\n",
       " 'patalbari': 7,\n",
       " 'musium': 13,\n",
       " 'clock_tower': 6}"
      ]
     },
     "metadata": {},
     "output_type": "display_data"
    }
   ],
   "source": [
    "# delete old copies to avoid conflict\n",
    "delete_files_with_regix_suffix(folder_path, suffix_pattern)\n",
    "\n",
    "count_map = count_items_in_subfolders(folder_path)\n",
    "display(count_map)"
   ]
  },
  {
   "cell_type": "code",
   "execution_count": null,
   "metadata": {
    "colab": {
     "base_uri": "https://localhost:8080/",
     "height": 294
    },
    "executionInfo": {
     "elapsed": 26,
     "status": "ok",
     "timestamp": 1750248594738,
     "user": {
      "displayName": "Project CNC",
      "userId": "07230416678905314775"
     },
     "user_tz": -330
    },
    "id": "-EYGWeyc4Suh",
    "outputId": "9c1925b2-c54b-443c-bad4-2004fa4abb49"
   },
   "outputs": [
    {
     "name": "stdout",
     "output_type": "stream",
     "text": [
      "6.142857142857143\n",
      "2.5714285714285716\n",
      "3.5454545454545454\n",
      "6.142857142857143\n",
      "2.8461538461538463\n",
      "7.333333333333333\n",
      "\n",
      "Adjustable multiplier for producing 50 items .................\n"
     ]
    },
    {
     "data": {
      "text/plain": [
       "{'mondir': 6,\n",
       " 'jora_ghat': 3,\n",
       " 'charch': 4,\n",
       " 'patalbari': 6,\n",
       " 'musium': 3,\n",
       " 'clock_tower': 7}"
      ]
     },
     "metadata": {},
     "output_type": "display_data"
    },
    {
     "name": "stdout",
     "output_type": "stream",
     "text": [
      "['mondir', 'jora_ghat', 'charch', 'patalbari', 'musium', 'clock_tower']\n"
     ]
    }
   ],
   "source": [
    "dupl_frequency = count_map.copy()\n",
    "target_max_count = 50\n",
    "\n",
    "for i in dupl_frequency.keys():\n",
    "    calc = (target_max_count - dupl_frequency[i]) / dupl_frequency[i]\n",
    "    print(calc)\n",
    "    dupl_frequency[i] = round(calc)\n",
    "\n",
    "print(\n",
    "    f\"\\nAdjustable multiplier for producing {target_max_count} items .................\"\n",
    ")\n",
    "display(dupl_frequency)\n",
    "\n",
    "classes = list(dupl_frequency.keys())\n",
    "print(classes)"
   ]
  },
  {
   "cell_type": "code",
   "execution_count": null,
   "metadata": {
    "colab": {
     "base_uri": "https://localhost:8080/"
    },
    "executionInfo": {
     "elapsed": 21284,
     "status": "ok",
     "timestamp": 1750248616023,
     "user": {
      "displayName": "Project CNC",
      "userId": "07230416678905314775"
     },
     "user_tz": -330
    },
    "id": "3sls2_1J3UWO",
    "outputId": "66822e3d-e3ab-4cff-d202-8666140c4de9"
   },
   "outputs": [
    {
     "name": "stdout",
     "output_type": "stream",
     "text": [
      "Starting augmentation for images in: /content/drive/MyDrive/Classroom/ChandernagoreCollegeSemVI-Addon 2025 Sem VI Computer Science Honours/Proj2_Heritage_places_in_CGR_classify/training_images/mondir\n",
      "Processing: tmpl_0007.JPG  Generated..6 \n",
      "Processing: tmpl_0008.jpg  Generated..6 \n",
      "Processing: tmpl_0006.jpg  Generated..6 \n",
      "Processing: tmpl_0001.jpg  Generated..6 \n",
      "Processing: tmpl_0005.webp  Generated..6 \n",
      "Processing: tmpl_0002.webp  Generated..6 \n",
      "Processing: tmpl_0004.jpeg  Generated..6 \n"
     ]
    },
    {
     "data": {
      "text/plain": [
       "{'mondir': 49,\n",
       " 'jora_ghat': 14,\n",
       " 'charch': 11,\n",
       " 'patalbari': 7,\n",
       " 'musium': 13,\n",
       " 'clock_tower': 6}"
      ]
     },
     "execution_count": 16,
     "metadata": {},
     "output_type": "execute_result"
    }
   ],
   "source": [
    "process_folder_perform_augment(folder_path + classes[0], dupl_frequency[classes[0]])\n",
    "count_items_in_subfolders(folder_path)"
   ]
  },
  {
   "cell_type": "code",
   "execution_count": null,
   "metadata": {
    "colab": {
     "base_uri": "https://localhost:8080/"
    },
    "executionInfo": {
     "elapsed": 13297,
     "status": "ok",
     "timestamp": 1750248629323,
     "user": {
      "displayName": "Project CNC",
      "userId": "07230416678905314775"
     },
     "user_tz": -330
    },
    "id": "xQdpYDJ95jLW",
    "outputId": "879a1215-de96-4b34-f69b-99adf20f0442"
   },
   "outputs": [
    {
     "name": "stdout",
     "output_type": "stream",
     "text": [
      "Starting augmentation for images in: /content/drive/MyDrive/Classroom/ChandernagoreCollegeSemVI-Addon 2025 Sem VI Computer Science Honours/Proj2_Heritage_places_in_CGR_classify/training_images/jora_ghat\n",
      "Processing: ghat_0005.webp  Generated..3 \n",
      "Processing: ghat_00010.webp  Generated..3 \n",
      "Processing: ghat_0001.jpg  Generated..3 \n",
      "Processing: ghat_00014.JPG  Generated..3 \n",
      "Processing: ghat_0009.jpg  Generated..3 \n",
      "Processing: ghat_0007.jpg  Generated..3 \n",
      "Processing: ghat_0008.jpg  Generated..3 \n",
      "Processing: ghat_00012.webp  Generated..3 \n",
      "Processing: ghat_00013.jpeg  Generated..3 \n",
      "Processing: ghat_0002.jpg  Generated..3 \n",
      "Processing: ghat_00016.jpg  Generated..3 \n",
      "Processing: ghat_00017.jpeg  Generated..3 \n",
      "Processing: ghat_0004.jpeg  Generated..3 \n",
      "Processing: ghat_0003.jpg  Generated..3 \n"
     ]
    },
    {
     "data": {
      "text/plain": [
       "{'mondir': 49,\n",
       " 'jora_ghat': 56,\n",
       " 'charch': 11,\n",
       " 'patalbari': 7,\n",
       " 'musium': 13,\n",
       " 'clock_tower': 6}"
      ]
     },
     "execution_count": 17,
     "metadata": {},
     "output_type": "execute_result"
    }
   ],
   "source": [
    "process_folder_perform_augment(folder_path + classes[1], dupl_frequency[classes[1]])\n",
    "count_items_in_subfolders(folder_path)"
   ]
  },
  {
   "cell_type": "code",
   "execution_count": null,
   "metadata": {
    "colab": {
     "base_uri": "https://localhost:8080/"
    },
    "executionInfo": {
     "elapsed": 14951,
     "status": "ok",
     "timestamp": 1750248644275,
     "user": {
      "displayName": "Project CNC",
      "userId": "07230416678905314775"
     },
     "user_tz": -330
    },
    "id": "dEm5qesO5jRu",
    "outputId": "b6292c09-9ace-49bb-d8bf-545842ecbcd0"
   },
   "outputs": [
    {
     "name": "stdout",
     "output_type": "stream",
     "text": [
      "Starting augmentation for images in: /content/drive/MyDrive/Classroom/ChandernagoreCollegeSemVI-Addon 2025 Sem VI Computer Science Honours/Proj2_Heritage_places_in_CGR_classify/training_images/charch\n",
      "Processing: crch_00013.jpg  Generated..4 \n",
      "Processing: crch_0004.jpg  Generated..4 \n",
      "Processing: crch_0009.jpg  Generated..4 \n",
      "Processing: crch_0003.jpg  Generated..4 \n",
      "Processing: crch_00014.JPG  Generated..4 \n",
      "Processing: crch_00011.jpg  Generated..4 \n",
      "Processing: crch_0008.jpg  Generated..4 \n",
      "Processing: crch_0007.webp  Generated..4 \n",
      "Processing: crch_0005.jpg  Generated..4 \n",
      "Processing: crch_00010.png  Generated..4 \n",
      "Processing: crch_0001.webp  Generated..4 \n"
     ]
    },
    {
     "data": {
      "text/plain": [
       "{'mondir': 49,\n",
       " 'jora_ghat': 56,\n",
       " 'charch': 55,\n",
       " 'patalbari': 7,\n",
       " 'musium': 13,\n",
       " 'clock_tower': 6}"
      ]
     },
     "execution_count": 18,
     "metadata": {},
     "output_type": "execute_result"
    }
   ],
   "source": [
    "process_folder_perform_augment(folder_path + classes[2], dupl_frequency[classes[2]])\n",
    "count_items_in_subfolders(folder_path)"
   ]
  },
  {
   "cell_type": "code",
   "execution_count": null,
   "metadata": {
    "colab": {
     "base_uri": "https://localhost:8080/"
    },
    "executionInfo": {
     "elapsed": 21233,
     "status": "ok",
     "timestamp": 1750248665510,
     "user": {
      "displayName": "Project CNC",
      "userId": "07230416678905314775"
     },
     "user_tz": -330
    },
    "id": "PeNeutIS5jYn",
    "outputId": "9208fc2a-b5ff-41fb-fe41-646bb149ea5a"
   },
   "outputs": [
    {
     "name": "stdout",
     "output_type": "stream",
     "text": [
      "Starting augmentation for images in: /content/drive/MyDrive/Classroom/ChandernagoreCollegeSemVI-Addon 2025 Sem VI Computer Science Honours/Proj2_Heritage_places_in_CGR_classify/training_images/patalbari\n",
      "Processing: pb_0006.jpeg  Generated..6 \n",
      "Processing: pb_0002.jpeg  Generated..6 \n",
      "Processing: pb_0005.jpeg  Generated..6 \n",
      "Processing: pb_0009.jpeg  Generated..6 \n",
      "Processing: pb_0003.webp  Generated..6 \n",
      "Processing: pb_0004.JPG  Generated..6 \n",
      "Processing: pb_0001.jpg  Generated..6 \n"
     ]
    },
    {
     "data": {
      "text/plain": [
       "{'mondir': 49,\n",
       " 'jora_ghat': 56,\n",
       " 'charch': 55,\n",
       " 'patalbari': 49,\n",
       " 'musium': 13,\n",
       " 'clock_tower': 6}"
      ]
     },
     "execution_count": 19,
     "metadata": {},
     "output_type": "execute_result"
    }
   ],
   "source": [
    "process_folder_perform_augment(folder_path + classes[3], dupl_frequency[classes[3]])\n",
    "count_items_in_subfolders(folder_path)"
   ]
  },
  {
   "cell_type": "code",
   "execution_count": null,
   "metadata": {
    "colab": {
     "base_uri": "https://localhost:8080/"
    },
    "executionInfo": {
     "elapsed": 9460,
     "status": "ok",
     "timestamp": 1750248674984,
     "user": {
      "displayName": "Project CNC",
      "userId": "07230416678905314775"
     },
     "user_tz": -330
    },
    "id": "Np7mgSTS5jf2",
    "outputId": "94fd682a-25f1-4904-e2ef-2a4df9739218"
   },
   "outputs": [
    {
     "name": "stdout",
     "output_type": "stream",
     "text": [
      "Starting augmentation for images in: /content/drive/MyDrive/Classroom/ChandernagoreCollegeSemVI-Addon 2025 Sem VI Computer Science Honours/Proj2_Heritage_places_in_CGR_classify/training_images/musium\n",
      "Processing: mus_00012.jpg  Generated..3 \n",
      "Processing: mus_0001.jpg  Generated..3 \n",
      "Processing: mus_00013.jpg  Generated..3 \n",
      "Processing: mus_0005.webp  Generated..3 \n",
      "Processing: mus_0009.webp  Generated..3 \n",
      "Processing: mus_0004.jpg  Generated..3 \n",
      "Processing: mus_00015.JPG  Generated..3 \n",
      "Processing: mus_0007.jpg  Generated..3 \n",
      "Processing: mus_00014.jpg  Generated..3 \n",
      "Processing: mus_0006.jpg  Generated..3 \n",
      "Processing: mus_0002.jpeg  Generated..3 \n",
      "Processing: mus_0010.jpeg  Generated..3 \n",
      "Processing: mus_0008.jpg  Generated..3 \n"
     ]
    },
    {
     "data": {
      "text/plain": [
       "{'mondir': 49,\n",
       " 'jora_ghat': 56,\n",
       " 'charch': 55,\n",
       " 'patalbari': 49,\n",
       " 'musium': 52,\n",
       " 'clock_tower': 6}"
      ]
     },
     "execution_count": 20,
     "metadata": {},
     "output_type": "execute_result"
    }
   ],
   "source": [
    "process_folder_perform_augment(folder_path + classes[4], dupl_frequency[classes[4]])\n",
    "count_items_in_subfolders(folder_path)"
   ]
  },
  {
   "cell_type": "code",
   "execution_count": null,
   "metadata": {
    "colab": {
     "base_uri": "https://localhost:8080/"
    },
    "executionInfo": {
     "elapsed": 15504,
     "status": "ok",
     "timestamp": 1750248690490,
     "user": {
      "displayName": "Project CNC",
      "userId": "07230416678905314775"
     },
     "user_tz": -330
    },
    "id": "KyKMvw5_5ywO",
    "outputId": "822ebd12-b8fa-4537-a9b5-13b859bbe6eb"
   },
   "outputs": [
    {
     "name": "stdout",
     "output_type": "stream",
     "text": [
      "Starting augmentation for images in: /content/drive/MyDrive/Classroom/ChandernagoreCollegeSemVI-Addon 2025 Sem VI Computer Science Honours/Proj2_Heritage_places_in_CGR_classify/training_images/clock_tower\n",
      "Processing: ct_0007.jpeg  Generated..7 \n",
      "Processing: ct_0005.jpg  Generated..7 \n",
      "Processing: ct_0004.webp  Generated..7 \n",
      "Processing: ct_0003.jpg  Generated..7 \n",
      "Processing: ct_0006.jpg  Generated..7 \n",
      "Processing: ct_0002.webp  Generated..7 \n"
     ]
    },
    {
     "data": {
      "text/plain": [
       "{'mondir': 49,\n",
       " 'jora_ghat': 56,\n",
       " 'charch': 55,\n",
       " 'patalbari': 49,\n",
       " 'musium': 52,\n",
       " 'clock_tower': 48}"
      ]
     },
     "execution_count": 21,
     "metadata": {},
     "output_type": "execute_result"
    }
   ],
   "source": [
    "process_folder_perform_augment(folder_path + classes[5], dupl_frequency[classes[5]])\n",
    "count_items_in_subfolders(folder_path)"
   ]
  },
  {
   "cell_type": "code",
   "execution_count": null,
   "metadata": {
    "colab": {
     "base_uri": "https://localhost:8080/",
     "height": 307
    },
    "executionInfo": {
     "elapsed": 134,
     "status": "ok",
     "timestamp": 1750248740495,
     "user": {
      "displayName": "Project CNC",
      "userId": "07230416678905314775"
     },
     "user_tz": -330
    },
    "id": "2YDfgR767QEe",
    "outputId": "95547c37-c43a-4be6-db63-e599c9e21c01"
   },
   "outputs": [
    {
     "data": {
      "image/png": "[encoded data removed]",
      "text/plain": [
       "<Figure size 400x300 with 1 Axes>"
      ]
     },
     "metadata": {},
     "output_type": "display_data"
    }
   ],
   "source": [
    "counts = pd.Series(count_items_in_subfolders(folder_path))\n",
    "# Create a bar plot using pandas plot function\n",
    "counts.plot(kind=\"bar\", figsize=(4, 3))\n",
    "plt.xticks(rotation=40)\n",
    "plt.tight_layout()\n",
    "plt.show()"
   ]
  },
  {
   "cell_type": "code",
   "execution_count": 22,
   "metadata": {
    "executionInfo": {
     "elapsed": 2,
     "status": "ok",
     "timestamp": 1750248690650,
     "user": {
      "displayName": "Project CNC",
      "userId": "07230416678905314775"
     },
     "user_tz": -330
    },
    "id": "qTtVrOsY7zU5"
   },
   "outputs": [],
   "source": []
  }
 ],
 "metadata": {
  "colab": {
   "gpuType": "T4",
   "provenance": [],
   "toc_visible": true
  },
  "kernelspec": {
   "display_name": "Python 3",
   "name": "python3"
  },
  "language_info": {
   "name": "python"
  }
 },
 "nbformat": 4,
 "nbformat_minor": 0
}
